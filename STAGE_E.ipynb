{
 "cells": [
  {
   "cell_type": "code",
   "execution_count": 1,
   "id": "9d0d3813",
   "metadata": {},
   "outputs": [
    {
     "name": "stderr",
     "output_type": "stream",
     "text": [
      "Importing plotly failed. Interactive plots will not work.\n"
     ]
    }
   ],
   "source": [
    "#importing required libraries\n",
    "import numpy as np\n",
    "import pandas as pd\n",
    "import matplotlib.pyplot as plt\n",
    "from prophet import Prophet\n",
    "from statsmodels.tsa.stattools import adfuller\n",
    "from sklearn.metrics import mean_absolute_error, mean_squared_error, r2_score\n",
    "from math import sqrt\n",
    "from sklearn import metrics\n",
    "from prophet.plot import plot_yearly"
   ]
  },
  {
   "cell_type": "code",
   "execution_count": 2,
   "id": "8303e430",
   "metadata": {},
   "outputs": [],
   "source": [
    "dataset = pd.read_csv('https://github.com/HamoyeHQ/HDSC-Time-series-analysis-and-forecast/files/7768846/Time_series_analysis_and_forecast_DATASET.csv')"
   ]
  },
  {
   "cell_type": "code",
   "execution_count": 3,
   "id": "945a5005",
   "metadata": {},
   "outputs": [
    {
     "data": {
      "text/html": [
       "<div>\n",
       "<style scoped>\n",
       "    .dataframe tbody tr th:only-of-type {\n",
       "        vertical-align: middle;\n",
       "    }\n",
       "\n",
       "    .dataframe tbody tr th {\n",
       "        vertical-align: top;\n",
       "    }\n",
       "\n",
       "    .dataframe thead th {\n",
       "        text-align: right;\n",
       "    }\n",
       "</style>\n",
       "<table border=\"1\" class=\"dataframe\">\n",
       "  <thead>\n",
       "    <tr style=\"text-align: right;\">\n",
       "      <th></th>\n",
       "      <th>FullDate</th>\n",
       "      <th>Tmax</th>\n",
       "      <th>SysLoad</th>\n",
       "      <th>GasPrice</th>\n",
       "      <th>ElecPrice</th>\n",
       "    </tr>\n",
       "  </thead>\n",
       "  <tbody>\n",
       "    <tr>\n",
       "      <th>0</th>\n",
       "      <td>2010-09-01 00:00:00</td>\n",
       "      <td>15.8</td>\n",
       "      <td>1688.21500</td>\n",
       "      <td>3.6900</td>\n",
       "      <td>23.710</td>\n",
       "    </tr>\n",
       "    <tr>\n",
       "      <th>1</th>\n",
       "      <td>2010-09-01 01:00:00</td>\n",
       "      <td>15.8</td>\n",
       "      <td>1669.19500</td>\n",
       "      <td>3.6900</td>\n",
       "      <td>22.635</td>\n",
       "    </tr>\n",
       "    <tr>\n",
       "      <th>2</th>\n",
       "      <td>2010-09-01 02:00:00</td>\n",
       "      <td>15.8</td>\n",
       "      <td>1491.98000</td>\n",
       "      <td>3.6900</td>\n",
       "      <td>22.565</td>\n",
       "    </tr>\n",
       "    <tr>\n",
       "      <th>3</th>\n",
       "      <td>2010-09-01 03:00:00</td>\n",
       "      <td>15.8</td>\n",
       "      <td>1330.76000</td>\n",
       "      <td>3.6900</td>\n",
       "      <td>18.910</td>\n",
       "    </tr>\n",
       "    <tr>\n",
       "      <th>4</th>\n",
       "      <td>2010-09-01 04:00:00</td>\n",
       "      <td>15.8</td>\n",
       "      <td>1247.94000</td>\n",
       "      <td>3.6900</td>\n",
       "      <td>18.030</td>\n",
       "    </tr>\n",
       "    <tr>\n",
       "      <th>...</th>\n",
       "      <td>...</td>\n",
       "      <td>...</td>\n",
       "      <td>...</td>\n",
       "      <td>...</td>\n",
       "      <td>...</td>\n",
       "    </tr>\n",
       "    <tr>\n",
       "      <th>92011</th>\n",
       "      <td>2021-02-28 19:00:00</td>\n",
       "      <td>24.3</td>\n",
       "      <td>449.63625</td>\n",
       "      <td>5.4848</td>\n",
       "      <td>117.925</td>\n",
       "    </tr>\n",
       "    <tr>\n",
       "      <th>92012</th>\n",
       "      <td>2021-02-28 20:00:00</td>\n",
       "      <td>24.3</td>\n",
       "      <td>815.59975</td>\n",
       "      <td>5.4848</td>\n",
       "      <td>87.880</td>\n",
       "    </tr>\n",
       "    <tr>\n",
       "      <th>92013</th>\n",
       "      <td>2021-02-28 21:00:00</td>\n",
       "      <td>24.3</td>\n",
       "      <td>745.12325</td>\n",
       "      <td>5.4848</td>\n",
       "      <td>62.060</td>\n",
       "    </tr>\n",
       "    <tr>\n",
       "      <th>92014</th>\n",
       "      <td>2021-02-28 22:00:00</td>\n",
       "      <td>24.3</td>\n",
       "      <td>694.95150</td>\n",
       "      <td>5.4848</td>\n",
       "      <td>62.000</td>\n",
       "    </tr>\n",
       "    <tr>\n",
       "      <th>92015</th>\n",
       "      <td>2021-02-28 23:00:00</td>\n",
       "      <td>24.3</td>\n",
       "      <td>714.69630</td>\n",
       "      <td>5.4848</td>\n",
       "      <td>62.955</td>\n",
       "    </tr>\n",
       "  </tbody>\n",
       "</table>\n",
       "<p>92016 rows × 5 columns</p>\n",
       "</div>"
      ],
      "text/plain": [
       "                  FullDate  Tmax     SysLoad  GasPrice  ElecPrice\n",
       "0      2010-09-01 00:00:00  15.8  1688.21500    3.6900     23.710\n",
       "1      2010-09-01 01:00:00  15.8  1669.19500    3.6900     22.635\n",
       "2      2010-09-01 02:00:00  15.8  1491.98000    3.6900     22.565\n",
       "3      2010-09-01 03:00:00  15.8  1330.76000    3.6900     18.910\n",
       "4      2010-09-01 04:00:00  15.8  1247.94000    3.6900     18.030\n",
       "...                    ...   ...         ...       ...        ...\n",
       "92011  2021-02-28 19:00:00  24.3   449.63625    5.4848    117.925\n",
       "92012  2021-02-28 20:00:00  24.3   815.59975    5.4848     87.880\n",
       "92013  2021-02-28 21:00:00  24.3   745.12325    5.4848     62.060\n",
       "92014  2021-02-28 22:00:00  24.3   694.95150    5.4848     62.000\n",
       "92015  2021-02-28 23:00:00  24.3   714.69630    5.4848     62.955\n",
       "\n",
       "[92016 rows x 5 columns]"
      ]
     },
     "execution_count": 3,
     "metadata": {},
     "output_type": "execute_result"
    }
   ],
   "source": [
    "dataset"
   ]
  },
  {
   "cell_type": "code",
   "execution_count": 4,
   "id": "f2d4b6fd",
   "metadata": {},
   "outputs": [
    {
     "data": {
      "text/html": [
       "<div>\n",
       "<style scoped>\n",
       "    .dataframe tbody tr th:only-of-type {\n",
       "        vertical-align: middle;\n",
       "    }\n",
       "\n",
       "    .dataframe tbody tr th {\n",
       "        vertical-align: top;\n",
       "    }\n",
       "\n",
       "    .dataframe thead th {\n",
       "        text-align: right;\n",
       "    }\n",
       "</style>\n",
       "<table border=\"1\" class=\"dataframe\">\n",
       "  <thead>\n",
       "    <tr style=\"text-align: right;\">\n",
       "      <th></th>\n",
       "      <th>Tmax</th>\n",
       "      <th>SysLoad</th>\n",
       "      <th>GasPrice</th>\n",
       "      <th>ElecPrice</th>\n",
       "    </tr>\n",
       "  </thead>\n",
       "  <tbody>\n",
       "    <tr>\n",
       "      <th>count</th>\n",
       "      <td>92016.000000</td>\n",
       "      <td>92016.000000</td>\n",
       "      <td>92016.000000</td>\n",
       "      <td>92016.000000</td>\n",
       "    </tr>\n",
       "    <tr>\n",
       "      <th>mean</th>\n",
       "      <td>231.696688</td>\n",
       "      <td>797.623357</td>\n",
       "      <td>6.016163</td>\n",
       "      <td>65.798356</td>\n",
       "    </tr>\n",
       "    <tr>\n",
       "      <th>std</th>\n",
       "      <td>4562.128748</td>\n",
       "      <td>613.520156</td>\n",
       "      <td>2.608116</td>\n",
       "      <td>213.144084</td>\n",
       "    </tr>\n",
       "    <tr>\n",
       "      <th>min</th>\n",
       "      <td>9.900000</td>\n",
       "      <td>-1596.810100</td>\n",
       "      <td>0.000000</td>\n",
       "      <td>-924.820000</td>\n",
       "    </tr>\n",
       "    <tr>\n",
       "      <th>25%</th>\n",
       "      <td>17.300000</td>\n",
       "      <td>417.119800</td>\n",
       "      <td>3.936900</td>\n",
       "      <td>31.543750</td>\n",
       "    </tr>\n",
       "    <tr>\n",
       "      <th>50%</th>\n",
       "      <td>21.900000</td>\n",
       "      <td>856.467925</td>\n",
       "      <td>5.165600</td>\n",
       "      <td>48.715000</td>\n",
       "    </tr>\n",
       "    <tr>\n",
       "      <th>75%</th>\n",
       "      <td>27.600000</td>\n",
       "      <td>1221.293675</td>\n",
       "      <td>8.023300</td>\n",
       "      <td>76.495000</td>\n",
       "    </tr>\n",
       "    <tr>\n",
       "      <th>max</th>\n",
       "      <td>99999.900000</td>\n",
       "      <td>3264.166300</td>\n",
       "      <td>29.990000</td>\n",
       "      <td>14700.000000</td>\n",
       "    </tr>\n",
       "  </tbody>\n",
       "</table>\n",
       "</div>"
      ],
      "text/plain": [
       "               Tmax       SysLoad      GasPrice     ElecPrice\n",
       "count  92016.000000  92016.000000  92016.000000  92016.000000\n",
       "mean     231.696688    797.623357      6.016163     65.798356\n",
       "std     4562.128748    613.520156      2.608116    213.144084\n",
       "min        9.900000  -1596.810100      0.000000   -924.820000\n",
       "25%       17.300000    417.119800      3.936900     31.543750\n",
       "50%       21.900000    856.467925      5.165600     48.715000\n",
       "75%       27.600000   1221.293675      8.023300     76.495000\n",
       "max    99999.900000   3264.166300     29.990000  14700.000000"
      ]
     },
     "execution_count": 4,
     "metadata": {},
     "output_type": "execute_result"
    }
   ],
   "source": [
    "dataset.describe()"
   ]
  },
  {
   "cell_type": "code",
   "execution_count": 5,
   "id": "acc539ce",
   "metadata": {},
   "outputs": [
    {
     "data": {
      "text/plain": [
       "FullDate     0\n",
       "Tmax         0\n",
       "SysLoad      0\n",
       "GasPrice     0\n",
       "ElecPrice    0\n",
       "dtype: int64"
      ]
     },
     "execution_count": 5,
     "metadata": {},
     "output_type": "execute_result"
    }
   ],
   "source": [
    "#checking for null value\n",
    "dataset.isnull().sum()"
   ]
  },
  {
   "cell_type": "code",
   "execution_count": 6,
   "id": "0175d623",
   "metadata": {},
   "outputs": [
    {
     "data": {
      "text/html": [
       "<div>\n",
       "<style scoped>\n",
       "    .dataframe tbody tr th:only-of-type {\n",
       "        vertical-align: middle;\n",
       "    }\n",
       "\n",
       "    .dataframe tbody tr th {\n",
       "        vertical-align: top;\n",
       "    }\n",
       "\n",
       "    .dataframe thead th {\n",
       "        text-align: right;\n",
       "    }\n",
       "</style>\n",
       "<table border=\"1\" class=\"dataframe\">\n",
       "  <thead>\n",
       "    <tr style=\"text-align: right;\">\n",
       "      <th></th>\n",
       "      <th>Tmax</th>\n",
       "      <th>SysLoad</th>\n",
       "      <th>GasPrice</th>\n",
       "      <th>ElecPrice</th>\n",
       "    </tr>\n",
       "  </thead>\n",
       "  <tbody>\n",
       "    <tr>\n",
       "      <th>Tmax</th>\n",
       "      <td>1.000000</td>\n",
       "      <td>-0.009796</td>\n",
       "      <td>0.030173</td>\n",
       "      <td>0.002126</td>\n",
       "    </tr>\n",
       "    <tr>\n",
       "      <th>SysLoad</th>\n",
       "      <td>-0.009796</td>\n",
       "      <td>1.000000</td>\n",
       "      <td>-0.214574</td>\n",
       "      <td>0.138690</td>\n",
       "    </tr>\n",
       "    <tr>\n",
       "      <th>GasPrice</th>\n",
       "      <td>0.030173</td>\n",
       "      <td>-0.214574</td>\n",
       "      <td>1.000000</td>\n",
       "      <td>0.157768</td>\n",
       "    </tr>\n",
       "    <tr>\n",
       "      <th>ElecPrice</th>\n",
       "      <td>0.002126</td>\n",
       "      <td>0.138690</td>\n",
       "      <td>0.157768</td>\n",
       "      <td>1.000000</td>\n",
       "    </tr>\n",
       "  </tbody>\n",
       "</table>\n",
       "</div>"
      ],
      "text/plain": [
       "               Tmax   SysLoad  GasPrice  ElecPrice\n",
       "Tmax       1.000000 -0.009796  0.030173   0.002126\n",
       "SysLoad   -0.009796  1.000000 -0.214574   0.138690\n",
       "GasPrice   0.030173 -0.214574  1.000000   0.157768\n",
       "ElecPrice  0.002126  0.138690  0.157768   1.000000"
      ]
     },
     "execution_count": 6,
     "metadata": {},
     "output_type": "execute_result"
    }
   ],
   "source": [
    "#checking for correlation\n",
    "dataset.corr()"
   ]
  },
  {
   "cell_type": "code",
   "execution_count": 7,
   "id": "95cd534e",
   "metadata": {},
   "outputs": [],
   "source": [
    "#converting our date column\n",
    "dataset['FullDate'] = pd.to_datetime(dataset['FullDate'])\n",
    "dataset = dataset.set_index('FullDate')"
   ]
  },
  {
   "cell_type": "code",
   "execution_count": 8,
   "id": "f7790a83",
   "metadata": {},
   "outputs": [
    {
     "data": {
      "text/html": [
       "<div>\n",
       "<style scoped>\n",
       "    .dataframe tbody tr th:only-of-type {\n",
       "        vertical-align: middle;\n",
       "    }\n",
       "\n",
       "    .dataframe tbody tr th {\n",
       "        vertical-align: top;\n",
       "    }\n",
       "\n",
       "    .dataframe thead th {\n",
       "        text-align: right;\n",
       "    }\n",
       "</style>\n",
       "<table border=\"1\" class=\"dataframe\">\n",
       "  <thead>\n",
       "    <tr style=\"text-align: right;\">\n",
       "      <th></th>\n",
       "      <th>Tmax</th>\n",
       "      <th>SysLoad</th>\n",
       "      <th>GasPrice</th>\n",
       "      <th>ElecPrice</th>\n",
       "    </tr>\n",
       "    <tr>\n",
       "      <th>FullDate</th>\n",
       "      <th></th>\n",
       "      <th></th>\n",
       "      <th></th>\n",
       "      <th></th>\n",
       "    </tr>\n",
       "  </thead>\n",
       "  <tbody>\n",
       "    <tr>\n",
       "      <th>2010-09-01 00:00:00</th>\n",
       "      <td>15.8</td>\n",
       "      <td>1688.21500</td>\n",
       "      <td>3.6900</td>\n",
       "      <td>23.710</td>\n",
       "    </tr>\n",
       "    <tr>\n",
       "      <th>2010-09-01 01:00:00</th>\n",
       "      <td>15.8</td>\n",
       "      <td>1669.19500</td>\n",
       "      <td>3.6900</td>\n",
       "      <td>22.635</td>\n",
       "    </tr>\n",
       "    <tr>\n",
       "      <th>2010-09-01 02:00:00</th>\n",
       "      <td>15.8</td>\n",
       "      <td>1491.98000</td>\n",
       "      <td>3.6900</td>\n",
       "      <td>22.565</td>\n",
       "    </tr>\n",
       "    <tr>\n",
       "      <th>2010-09-01 03:00:00</th>\n",
       "      <td>15.8</td>\n",
       "      <td>1330.76000</td>\n",
       "      <td>3.6900</td>\n",
       "      <td>18.910</td>\n",
       "    </tr>\n",
       "    <tr>\n",
       "      <th>2010-09-01 04:00:00</th>\n",
       "      <td>15.8</td>\n",
       "      <td>1247.94000</td>\n",
       "      <td>3.6900</td>\n",
       "      <td>18.030</td>\n",
       "    </tr>\n",
       "    <tr>\n",
       "      <th>...</th>\n",
       "      <td>...</td>\n",
       "      <td>...</td>\n",
       "      <td>...</td>\n",
       "      <td>...</td>\n",
       "    </tr>\n",
       "    <tr>\n",
       "      <th>2021-02-28 19:00:00</th>\n",
       "      <td>24.3</td>\n",
       "      <td>449.63625</td>\n",
       "      <td>5.4848</td>\n",
       "      <td>117.925</td>\n",
       "    </tr>\n",
       "    <tr>\n",
       "      <th>2021-02-28 20:00:00</th>\n",
       "      <td>24.3</td>\n",
       "      <td>815.59975</td>\n",
       "      <td>5.4848</td>\n",
       "      <td>87.880</td>\n",
       "    </tr>\n",
       "    <tr>\n",
       "      <th>2021-02-28 21:00:00</th>\n",
       "      <td>24.3</td>\n",
       "      <td>745.12325</td>\n",
       "      <td>5.4848</td>\n",
       "      <td>62.060</td>\n",
       "    </tr>\n",
       "    <tr>\n",
       "      <th>2021-02-28 22:00:00</th>\n",
       "      <td>24.3</td>\n",
       "      <td>694.95150</td>\n",
       "      <td>5.4848</td>\n",
       "      <td>62.000</td>\n",
       "    </tr>\n",
       "    <tr>\n",
       "      <th>2021-02-28 23:00:00</th>\n",
       "      <td>24.3</td>\n",
       "      <td>714.69630</td>\n",
       "      <td>5.4848</td>\n",
       "      <td>62.955</td>\n",
       "    </tr>\n",
       "  </tbody>\n",
       "</table>\n",
       "<p>92016 rows × 4 columns</p>\n",
       "</div>"
      ],
      "text/plain": [
       "                     Tmax     SysLoad  GasPrice  ElecPrice\n",
       "FullDate                                                  \n",
       "2010-09-01 00:00:00  15.8  1688.21500    3.6900     23.710\n",
       "2010-09-01 01:00:00  15.8  1669.19500    3.6900     22.635\n",
       "2010-09-01 02:00:00  15.8  1491.98000    3.6900     22.565\n",
       "2010-09-01 03:00:00  15.8  1330.76000    3.6900     18.910\n",
       "2010-09-01 04:00:00  15.8  1247.94000    3.6900     18.030\n",
       "...                   ...         ...       ...        ...\n",
       "2021-02-28 19:00:00  24.3   449.63625    5.4848    117.925\n",
       "2021-02-28 20:00:00  24.3   815.59975    5.4848     87.880\n",
       "2021-02-28 21:00:00  24.3   745.12325    5.4848     62.060\n",
       "2021-02-28 22:00:00  24.3   694.95150    5.4848     62.000\n",
       "2021-02-28 23:00:00  24.3   714.69630    5.4848     62.955\n",
       "\n",
       "[92016 rows x 4 columns]"
      ]
     },
     "execution_count": 8,
     "metadata": {},
     "output_type": "execute_result"
    }
   ],
   "source": [
    "dataset"
   ]
  },
  {
   "cell_type": "code",
   "execution_count": 9,
   "id": "c3f611db",
   "metadata": {},
   "outputs": [],
   "source": [
    "day_data = dataset.resample('D').sum()"
   ]
  },
  {
   "cell_type": "code",
   "execution_count": 10,
   "id": "2cca36cb",
   "metadata": {},
   "outputs": [
    {
     "data": {
      "text/plain": [
       "(3834, 4)"
      ]
     },
     "execution_count": 10,
     "metadata": {},
     "output_type": "execute_result"
    }
   ],
   "source": [
    "day_data.shape"
   ]
  },
  {
   "cell_type": "code",
   "execution_count": 11,
   "id": "a78baeb1",
   "metadata": {},
   "outputs": [
    {
     "data": {
      "text/plain": [
       "Text(0, 0.5, 'Electric Price')"
      ]
     },
     "execution_count": 11,
     "metadata": {},
     "output_type": "execute_result"
    },
    {
     "data": {
      "image/png": "[encoded data removed]",
      "text/plain": [
       "<Figure size 1500x800 with 1 Axes>"
      ]
     },
     "metadata": {},
     "output_type": "display_data"
    }
   ],
   "source": [
    "plt.figure(figsize=( 15 , 8 ))\n",
    "plt.plot(day_data.index, day_data['ElecPrice'], '--' , marker= '*' , )\n",
    "plt.grid()\n",
    "plt.xlabel( 'Year' )\n",
    "plt.ylabel( 'Electric Price' )"
   ]
  },
  {
   "cell_type": "code",
   "execution_count": 12,
   "id": "093422fc",
   "metadata": {},
   "outputs": [
    {
     "name": "stdout",
     "output_type": "stream",
     "text": [
      "p-value: 0.004254\n",
      "p-value: 0.045027\n"
     ]
    }
   ],
   "source": [
    "#P-value of sysload and gas price to 6 d.p\n",
    "sys = adfuller(day_data['SysLoad'])\n",
    "gas = adfuller(day_data['GasPrice'])\n",
    "\n",
    "print(f'p-value: {round(sys[1],6)}')\n",
    "print(f'p-value: {round(gas[1],6)}')"
   ]
  },
  {
   "cell_type": "code",
   "execution_count": 13,
   "id": "59f8c49c",
   "metadata": {},
   "outputs": [],
   "source": [
    "\n",
    "# Initially reseting the index\n",
    "\n",
    "train_data = day_data.iloc[:2757,:]\n",
    "test_data = day_data.iloc[2757:,:]"
   ]
  },
  {
   "cell_type": "code",
   "execution_count": 14,
   "id": "b8790d0a",
   "metadata": {},
   "outputs": [
    {
     "data": {
      "text/html": [
       "<div>\n",
       "<style scoped>\n",
       "    .dataframe tbody tr th:only-of-type {\n",
       "        vertical-align: middle;\n",
       "    }\n",
       "\n",
       "    .dataframe tbody tr th {\n",
       "        vertical-align: top;\n",
       "    }\n",
       "\n",
       "    .dataframe thead th {\n",
       "        text-align: right;\n",
       "    }\n",
       "</style>\n",
       "<table border=\"1\" class=\"dataframe\">\n",
       "  <thead>\n",
       "    <tr style=\"text-align: right;\">\n",
       "      <th></th>\n",
       "      <th>FullDate</th>\n",
       "      <th>Tmax</th>\n",
       "      <th>SysLoad</th>\n",
       "      <th>GasPrice</th>\n",
       "      <th>ElecPrice</th>\n",
       "    </tr>\n",
       "  </thead>\n",
       "  <tbody>\n",
       "    <tr>\n",
       "      <th>0</th>\n",
       "      <td>2010-09-01</td>\n",
       "      <td>379.2</td>\n",
       "      <td>41565.380</td>\n",
       "      <td>88.56</td>\n",
       "      <td>2751.700</td>\n",
       "    </tr>\n",
       "    <tr>\n",
       "      <th>1</th>\n",
       "      <td>2010-09-02</td>\n",
       "      <td>369.6</td>\n",
       "      <td>38898.990</td>\n",
       "      <td>88.56</td>\n",
       "      <td>570.810</td>\n",
       "    </tr>\n",
       "    <tr>\n",
       "      <th>2</th>\n",
       "      <td>2010-09-03</td>\n",
       "      <td>439.2</td>\n",
       "      <td>41665.760</td>\n",
       "      <td>106.80</td>\n",
       "      <td>504.975</td>\n",
       "    </tr>\n",
       "    <tr>\n",
       "      <th>3</th>\n",
       "      <td>2010-09-04</td>\n",
       "      <td>328.8</td>\n",
       "      <td>35638.085</td>\n",
       "      <td>81.36</td>\n",
       "      <td>502.275</td>\n",
       "    </tr>\n",
       "    <tr>\n",
       "      <th>4</th>\n",
       "      <td>2010-09-05</td>\n",
       "      <td>357.6</td>\n",
       "      <td>35611.410</td>\n",
       "      <td>106.80</td>\n",
       "      <td>500.555</td>\n",
       "    </tr>\n",
       "  </tbody>\n",
       "</table>\n",
       "</div>"
      ],
      "text/plain": [
       "    FullDate   Tmax    SysLoad  GasPrice  ElecPrice\n",
       "0 2010-09-01  379.2  41565.380     88.56   2751.700\n",
       "1 2010-09-02  369.6  38898.990     88.56    570.810\n",
       "2 2010-09-03  439.2  41665.760    106.80    504.975\n",
       "3 2010-09-04  328.8  35638.085     81.36    502.275\n",
       "4 2010-09-05  357.6  35611.410    106.80    500.555"
      ]
     },
     "execution_count": 14,
     "metadata": {},
     "output_type": "execute_result"
    }
   ],
   "source": [
    "train_data.reset_index(inplace = True)\n",
    "train_data.head()\n"
   ]
  },
  {
   "cell_type": "code",
   "execution_count": 15,
   "id": "246c184a",
   "metadata": {},
   "outputs": [
    {
     "data": {
      "text/html": [
       "<div>\n",
       "<style scoped>\n",
       "    .dataframe tbody tr th:only-of-type {\n",
       "        vertical-align: middle;\n",
       "    }\n",
       "\n",
       "    .dataframe tbody tr th {\n",
       "        vertical-align: top;\n",
       "    }\n",
       "\n",
       "    .dataframe thead th {\n",
       "        text-align: right;\n",
       "    }\n",
       "</style>\n",
       "<table border=\"1\" class=\"dataframe\">\n",
       "  <thead>\n",
       "    <tr style=\"text-align: right;\">\n",
       "      <th></th>\n",
       "      <th>ds</th>\n",
       "      <th>y</th>\n",
       "    </tr>\n",
       "  </thead>\n",
       "  <tbody>\n",
       "    <tr>\n",
       "      <th>0</th>\n",
       "      <td>2010-09-01</td>\n",
       "      <td>2751.700</td>\n",
       "    </tr>\n",
       "    <tr>\n",
       "      <th>1</th>\n",
       "      <td>2010-09-02</td>\n",
       "      <td>570.810</td>\n",
       "    </tr>\n",
       "    <tr>\n",
       "      <th>2</th>\n",
       "      <td>2010-09-03</td>\n",
       "      <td>504.975</td>\n",
       "    </tr>\n",
       "    <tr>\n",
       "      <th>3</th>\n",
       "      <td>2010-09-04</td>\n",
       "      <td>502.275</td>\n",
       "    </tr>\n",
       "    <tr>\n",
       "      <th>4</th>\n",
       "      <td>2010-09-05</td>\n",
       "      <td>500.555</td>\n",
       "    </tr>\n",
       "  </tbody>\n",
       "</table>\n",
       "</div>"
      ],
      "text/plain": [
       "          ds         y\n",
       "0 2010-09-01  2751.700\n",
       "1 2010-09-02   570.810\n",
       "2 2010-09-03   504.975\n",
       "3 2010-09-04   502.275\n",
       "4 2010-09-05   500.555"
      ]
     },
     "execution_count": 15,
     "metadata": {},
     "output_type": "execute_result"
    }
   ],
   "source": [
    "data_train = train_data.iloc[:,[0,-1]]\n",
    "data_train = data_train.rename(columns={\"FullDate\": \"ds\", \"ElecPrice\": \"y\"})\n",
    "data_train.head()"
   ]
  },
  {
   "cell_type": "code",
   "execution_count": 16,
   "id": "7a67ab07",
   "metadata": {},
   "outputs": [
    {
     "data": {
      "text/plain": [
       "(-2.5672, -2.8626)"
      ]
     },
     "execution_count": 16,
     "metadata": {},
     "output_type": "execute_result"
    }
   ],
   "source": [
    "#looking for critical values\n",
    "elecprice = adfuller(data_train['y'])\n",
    "round(gas[4]['10%'],4), round(elecprice[4]['5%'],4)"
   ]
  },
  {
   "cell_type": "code",
   "execution_count": 17,
   "id": "e60a1bc3",
   "metadata": {},
   "outputs": [
    {
     "data": {
      "text/html": [
       "<div>\n",
       "<style scoped>\n",
       "    .dataframe tbody tr th:only-of-type {\n",
       "        vertical-align: middle;\n",
       "    }\n",
       "\n",
       "    .dataframe tbody tr th {\n",
       "        vertical-align: top;\n",
       "    }\n",
       "\n",
       "    .dataframe thead th {\n",
       "        text-align: right;\n",
       "    }\n",
       "</style>\n",
       "<table border=\"1\" class=\"dataframe\">\n",
       "  <thead>\n",
       "    <tr style=\"text-align: right;\">\n",
       "      <th></th>\n",
       "      <th>FullDate</th>\n",
       "      <th>Tmax</th>\n",
       "      <th>SysLoad</th>\n",
       "      <th>GasPrice</th>\n",
       "      <th>ElecPrice</th>\n",
       "    </tr>\n",
       "  </thead>\n",
       "  <tbody>\n",
       "    <tr>\n",
       "      <th>0</th>\n",
       "      <td>2018-03-20</td>\n",
       "      <td>540.0</td>\n",
       "      <td>7696.91130</td>\n",
       "      <td>201.5880</td>\n",
       "      <td>1833.00</td>\n",
       "    </tr>\n",
       "    <tr>\n",
       "      <th>1</th>\n",
       "      <td>2018-03-21</td>\n",
       "      <td>571.2</td>\n",
       "      <td>4658.05865</td>\n",
       "      <td>203.2560</td>\n",
       "      <td>1730.49</td>\n",
       "    </tr>\n",
       "    <tr>\n",
       "      <th>2</th>\n",
       "      <td>2018-03-22</td>\n",
       "      <td>722.4</td>\n",
       "      <td>19161.78525</td>\n",
       "      <td>203.2560</td>\n",
       "      <td>2260.55</td>\n",
       "    </tr>\n",
       "    <tr>\n",
       "      <th>3</th>\n",
       "      <td>2018-03-23</td>\n",
       "      <td>811.2</td>\n",
       "      <td>18090.43435</td>\n",
       "      <td>198.6456</td>\n",
       "      <td>2138.76</td>\n",
       "    </tr>\n",
       "    <tr>\n",
       "      <th>4</th>\n",
       "      <td>2018-03-24</td>\n",
       "      <td>832.8</td>\n",
       "      <td>3763.53865</td>\n",
       "      <td>180.2160</td>\n",
       "      <td>1721.70</td>\n",
       "    </tr>\n",
       "  </tbody>\n",
       "</table>\n",
       "</div>"
      ],
      "text/plain": [
       "    FullDate   Tmax      SysLoad  GasPrice  ElecPrice\n",
       "0 2018-03-20  540.0   7696.91130  201.5880    1833.00\n",
       "1 2018-03-21  571.2   4658.05865  203.2560    1730.49\n",
       "2 2018-03-22  722.4  19161.78525  203.2560    2260.55\n",
       "3 2018-03-23  811.2  18090.43435  198.6456    2138.76\n",
       "4 2018-03-24  832.8   3763.53865  180.2160    1721.70"
      ]
     },
     "execution_count": 17,
     "metadata": {},
     "output_type": "execute_result"
    }
   ],
   "source": [
    "test_data.reset_index(inplace = True)\n",
    "test_data.head()\n"
   ]
  },
  {
   "cell_type": "code",
   "execution_count": 18,
   "id": "f17859b2",
   "metadata": {},
   "outputs": [
    {
     "data": {
      "text/html": [
       "<div>\n",
       "<style scoped>\n",
       "    .dataframe tbody tr th:only-of-type {\n",
       "        vertical-align: middle;\n",
       "    }\n",
       "\n",
       "    .dataframe tbody tr th {\n",
       "        vertical-align: top;\n",
       "    }\n",
       "\n",
       "    .dataframe thead th {\n",
       "        text-align: right;\n",
       "    }\n",
       "</style>\n",
       "<table border=\"1\" class=\"dataframe\">\n",
       "  <thead>\n",
       "    <tr style=\"text-align: right;\">\n",
       "      <th></th>\n",
       "      <th>ds</th>\n",
       "      <th>y</th>\n",
       "    </tr>\n",
       "  </thead>\n",
       "  <tbody>\n",
       "    <tr>\n",
       "      <th>0</th>\n",
       "      <td>2018-03-20</td>\n",
       "      <td>1833.00</td>\n",
       "    </tr>\n",
       "    <tr>\n",
       "      <th>1</th>\n",
       "      <td>2018-03-21</td>\n",
       "      <td>1730.49</td>\n",
       "    </tr>\n",
       "    <tr>\n",
       "      <th>2</th>\n",
       "      <td>2018-03-22</td>\n",
       "      <td>2260.55</td>\n",
       "    </tr>\n",
       "    <tr>\n",
       "      <th>3</th>\n",
       "      <td>2018-03-23</td>\n",
       "      <td>2138.76</td>\n",
       "    </tr>\n",
       "    <tr>\n",
       "      <th>4</th>\n",
       "      <td>2018-03-24</td>\n",
       "      <td>1721.70</td>\n",
       "    </tr>\n",
       "  </tbody>\n",
       "</table>\n",
       "</div>"
      ],
      "text/plain": [
       "          ds        y\n",
       "0 2018-03-20  1833.00\n",
       "1 2018-03-21  1730.49\n",
       "2 2018-03-22  2260.55\n",
       "3 2018-03-23  2138.76\n",
       "4 2018-03-24  1721.70"
      ]
     },
     "execution_count": 18,
     "metadata": {},
     "output_type": "execute_result"
    }
   ],
   "source": [
    "data_test = test_data.iloc[:,[0,-1]]\n",
    "data_test = data_test.rename(columns={\"FullDate\": \"ds\", \"ElecPrice\": \"y\"})\n",
    "data_test.head()"
   ]
  },
  {
   "cell_type": "code",
   "execution_count": 19,
   "id": "eebf408f",
   "metadata": {},
   "outputs": [],
   "source": [
    "test_data = test_data.iloc[:,[0,-1]]"
   ]
  },
  {
   "cell_type": "code",
   "execution_count": 20,
   "id": "ca9e1911",
   "metadata": {},
   "outputs": [
    {
     "data": {
      "text/html": [
       "<div>\n",
       "<style scoped>\n",
       "    .dataframe tbody tr th:only-of-type {\n",
       "        vertical-align: middle;\n",
       "    }\n",
       "\n",
       "    .dataframe tbody tr th {\n",
       "        vertical-align: top;\n",
       "    }\n",
       "\n",
       "    .dataframe thead th {\n",
       "        text-align: right;\n",
       "    }\n",
       "</style>\n",
       "<table border=\"1\" class=\"dataframe\">\n",
       "  <thead>\n",
       "    <tr style=\"text-align: right;\">\n",
       "      <th></th>\n",
       "      <th>ds</th>\n",
       "      <th>y</th>\n",
       "    </tr>\n",
       "  </thead>\n",
       "  <tbody>\n",
       "    <tr>\n",
       "      <th>0</th>\n",
       "      <td>2018-03-20</td>\n",
       "      <td>1833.00</td>\n",
       "    </tr>\n",
       "    <tr>\n",
       "      <th>1</th>\n",
       "      <td>2018-03-21</td>\n",
       "      <td>1730.49</td>\n",
       "    </tr>\n",
       "    <tr>\n",
       "      <th>2</th>\n",
       "      <td>2018-03-22</td>\n",
       "      <td>2260.55</td>\n",
       "    </tr>\n",
       "    <tr>\n",
       "      <th>3</th>\n",
       "      <td>2018-03-23</td>\n",
       "      <td>2138.76</td>\n",
       "    </tr>\n",
       "    <tr>\n",
       "      <th>4</th>\n",
       "      <td>2018-03-24</td>\n",
       "      <td>1721.70</td>\n",
       "    </tr>\n",
       "  </tbody>\n",
       "</table>\n",
       "</div>"
      ],
      "text/plain": [
       "          ds        y\n",
       "0 2018-03-20  1833.00\n",
       "1 2018-03-21  1730.49\n",
       "2 2018-03-22  2260.55\n",
       "3 2018-03-23  2138.76\n",
       "4 2018-03-24  1721.70"
      ]
     },
     "execution_count": 20,
     "metadata": {},
     "output_type": "execute_result"
    }
   ],
   "source": [
    "test_data = test_data.rename(columns={\"FullDate\": \"ds\", \"ElecPrice\": \"y\"})\n",
    "test_data.head()"
   ]
  },
  {
   "cell_type": "code",
   "execution_count": 21,
   "id": "e601e057",
   "metadata": {},
   "outputs": [
    {
     "name": "stderr",
     "output_type": "stream",
     "text": [
      "14:50:08 - cmdstanpy - INFO - Chain [1] start processing\n",
      "14:50:08 - cmdstanpy - INFO - Chain [1] done processing\n"
     ]
    },
    {
     "data": {
      "text/plain": [
       "<prophet.forecaster.Prophet at 0x287d9ec2770>"
      ]
     },
     "execution_count": 21,
     "metadata": {},
     "output_type": "execute_result"
    }
   ],
   "source": [
    "model = Prophet()\n",
    "model.fit(data_train)"
   ]
  },
  {
   "cell_type": "code",
   "execution_count": 22,
   "id": "9dab6b4c",
   "metadata": {},
   "outputs": [
    {
     "data": {
      "text/html": [
       "<div>\n",
       "<style scoped>\n",
       "    .dataframe tbody tr th:only-of-type {\n",
       "        vertical-align: middle;\n",
       "    }\n",
       "\n",
       "    .dataframe tbody tr th {\n",
       "        vertical-align: top;\n",
       "    }\n",
       "\n",
       "    .dataframe thead th {\n",
       "        text-align: right;\n",
       "    }\n",
       "</style>\n",
       "<table border=\"1\" class=\"dataframe\">\n",
       "  <thead>\n",
       "    <tr style=\"text-align: right;\">\n",
       "      <th></th>\n",
       "      <th>ds</th>\n",
       "      <th>trend</th>\n",
       "      <th>yhat_lower</th>\n",
       "      <th>yhat_upper</th>\n",
       "      <th>trend_lower</th>\n",
       "      <th>trend_upper</th>\n",
       "      <th>additive_terms</th>\n",
       "      <th>additive_terms_lower</th>\n",
       "      <th>additive_terms_upper</th>\n",
       "      <th>weekly</th>\n",
       "      <th>weekly_lower</th>\n",
       "      <th>weekly_upper</th>\n",
       "      <th>yearly</th>\n",
       "      <th>yearly_lower</th>\n",
       "      <th>yearly_upper</th>\n",
       "      <th>multiplicative_terms</th>\n",
       "      <th>multiplicative_terms_lower</th>\n",
       "      <th>multiplicative_terms_upper</th>\n",
       "      <th>yhat</th>\n",
       "    </tr>\n",
       "  </thead>\n",
       "  <tbody>\n",
       "    <tr>\n",
       "      <th>0</th>\n",
       "      <td>2018-03-20</td>\n",
       "      <td>2679.523236</td>\n",
       "      <td>174.458938</td>\n",
       "      <td>4901.866733</td>\n",
       "      <td>2679.523236</td>\n",
       "      <td>2679.523236</td>\n",
       "      <td>-154.882441</td>\n",
       "      <td>-154.882441</td>\n",
       "      <td>-154.882441</td>\n",
       "      <td>9.737801</td>\n",
       "      <td>9.737801</td>\n",
       "      <td>9.737801</td>\n",
       "      <td>-164.620241</td>\n",
       "      <td>-164.620241</td>\n",
       "      <td>-164.620241</td>\n",
       "      <td>0.0</td>\n",
       "      <td>0.0</td>\n",
       "      <td>0.0</td>\n",
       "      <td>2524.640796</td>\n",
       "    </tr>\n",
       "    <tr>\n",
       "      <th>1</th>\n",
       "      <td>2018-03-21</td>\n",
       "      <td>2680.298031</td>\n",
       "      <td>212.340162</td>\n",
       "      <td>5199.502232</td>\n",
       "      <td>2680.298031</td>\n",
       "      <td>2680.298031</td>\n",
       "      <td>-2.419802</td>\n",
       "      <td>-2.419802</td>\n",
       "      <td>-2.419802</td>\n",
       "      <td>159.363178</td>\n",
       "      <td>159.363178</td>\n",
       "      <td>159.363178</td>\n",
       "      <td>-161.782980</td>\n",
       "      <td>-161.782980</td>\n",
       "      <td>-161.782980</td>\n",
       "      <td>0.0</td>\n",
       "      <td>0.0</td>\n",
       "      <td>0.0</td>\n",
       "      <td>2677.878229</td>\n",
       "    </tr>\n",
       "    <tr>\n",
       "      <th>2</th>\n",
       "      <td>2018-03-22</td>\n",
       "      <td>2681.072826</td>\n",
       "      <td>341.730408</td>\n",
       "      <td>5188.198958</td>\n",
       "      <td>2681.072826</td>\n",
       "      <td>2681.072826</td>\n",
       "      <td>95.746291</td>\n",
       "      <td>95.746291</td>\n",
       "      <td>95.746291</td>\n",
       "      <td>257.127937</td>\n",
       "      <td>257.127937</td>\n",
       "      <td>257.127937</td>\n",
       "      <td>-161.381646</td>\n",
       "      <td>-161.381646</td>\n",
       "      <td>-161.381646</td>\n",
       "      <td>0.0</td>\n",
       "      <td>0.0</td>\n",
       "      <td>0.0</td>\n",
       "      <td>2776.819117</td>\n",
       "    </tr>\n",
       "    <tr>\n",
       "      <th>3</th>\n",
       "      <td>2018-03-23</td>\n",
       "      <td>2681.847620</td>\n",
       "      <td>252.597980</td>\n",
       "      <td>4944.276338</td>\n",
       "      <td>2681.847620</td>\n",
       "      <td>2681.847620</td>\n",
       "      <td>-112.972998</td>\n",
       "      <td>-112.972998</td>\n",
       "      <td>-112.972998</td>\n",
       "      <td>50.277336</td>\n",
       "      <td>50.277336</td>\n",
       "      <td>50.277336</td>\n",
       "      <td>-163.250334</td>\n",
       "      <td>-163.250334</td>\n",
       "      <td>-163.250334</td>\n",
       "      <td>0.0</td>\n",
       "      <td>0.0</td>\n",
       "      <td>0.0</td>\n",
       "      <td>2568.874622</td>\n",
       "    </tr>\n",
       "    <tr>\n",
       "      <th>4</th>\n",
       "      <td>2018-03-24</td>\n",
       "      <td>2682.622415</td>\n",
       "      <td>7.455192</td>\n",
       "      <td>4551.081934</td>\n",
       "      <td>2682.622415</td>\n",
       "      <td>2682.622415</td>\n",
       "      <td>-438.612511</td>\n",
       "      <td>-438.612511</td>\n",
       "      <td>-438.612511</td>\n",
       "      <td>-271.465795</td>\n",
       "      <td>-271.465795</td>\n",
       "      <td>-271.465795</td>\n",
       "      <td>-167.146716</td>\n",
       "      <td>-167.146716</td>\n",
       "      <td>-167.146716</td>\n",
       "      <td>0.0</td>\n",
       "      <td>0.0</td>\n",
       "      <td>0.0</td>\n",
       "      <td>2244.009904</td>\n",
       "    </tr>\n",
       "  </tbody>\n",
       "</table>\n",
       "</div>"
      ],
      "text/plain": [
       "          ds        trend  yhat_lower   yhat_upper  trend_lower  trend_upper  \\\n",
       "0 2018-03-20  2679.523236  174.458938  4901.866733  2679.523236  2679.523236   \n",
       "1 2018-03-21  2680.298031  212.340162  5199.502232  2680.298031  2680.298031   \n",
       "2 2018-03-22  2681.072826  341.730408  5188.198958  2681.072826  2681.072826   \n",
       "3 2018-03-23  2681.847620  252.597980  4944.276338  2681.847620  2681.847620   \n",
       "4 2018-03-24  2682.622415    7.455192  4551.081934  2682.622415  2682.622415   \n",
       "\n",
       "   additive_terms  additive_terms_lower  additive_terms_upper      weekly  \\\n",
       "0     -154.882441           -154.882441           -154.882441    9.737801   \n",
       "1       -2.419802             -2.419802             -2.419802  159.363178   \n",
       "2       95.746291             95.746291             95.746291  257.127937   \n",
       "3     -112.972998           -112.972998           -112.972998   50.277336   \n",
       "4     -438.612511           -438.612511           -438.612511 -271.465795   \n",
       "\n",
       "   weekly_lower  weekly_upper      yearly  yearly_lower  yearly_upper  \\\n",
       "0      9.737801      9.737801 -164.620241   -164.620241   -164.620241   \n",
       "1    159.363178    159.363178 -161.782980   -161.782980   -161.782980   \n",
       "2    257.127937    257.127937 -161.381646   -161.381646   -161.381646   \n",
       "3     50.277336     50.277336 -163.250334   -163.250334   -163.250334   \n",
       "4   -271.465795   -271.465795 -167.146716   -167.146716   -167.146716   \n",
       "\n",
       "   multiplicative_terms  multiplicative_terms_lower  \\\n",
       "0                   0.0                         0.0   \n",
       "1                   0.0                         0.0   \n",
       "2                   0.0                         0.0   \n",
       "3                   0.0                         0.0   \n",
       "4                   0.0                         0.0   \n",
       "\n",
       "   multiplicative_terms_upper         yhat  \n",
       "0                         0.0  2524.640796  \n",
       "1                         0.0  2677.878229  \n",
       "2                         0.0  2776.819117  \n",
       "3                         0.0  2568.874622  \n",
       "4                         0.0  2244.009904  "
      ]
     },
     "execution_count": 22,
     "metadata": {},
     "output_type": "execute_result"
    }
   ],
   "source": [
    "forecast = model.predict(data_test) \n",
    "forecast.head()"
   ]
  },
  {
   "cell_type": "code",
   "execution_count": 23,
   "id": "a29eb511",
   "metadata": {},
   "outputs": [],
   "source": [
    "def Metric(y_true,y_pred):\n",
    "  y_true,y_pred = np.array(y_true), np.array(y_pred)\n",
    "  return np.mean(np.abs((y_true - y_pred)/y_true)) *100\n",
    "\n"
   ]
  },
  {
   "cell_type": "code",
   "execution_count": 24,
   "id": "244000e4",
   "metadata": {},
   "outputs": [],
   "source": [
    "def mape(y, yhat):\n",
    "  y = y.reset_index(drop=True)\n",
    "  return round(np.mean(np.abs((y - yhat)/y)*100),2)"
   ]
  },
  {
   "cell_type": "code",
   "execution_count": 25,
   "id": "7b7a26a7",
   "metadata": {},
   "outputs": [
    {
     "data": {
      "text/plain": [
       "540.82"
      ]
     },
     "execution_count": 25,
     "metadata": {},
     "output_type": "execute_result"
    }
   ],
   "source": [
    "#running evaluation on our model\n",
    "MAPE = Metric(test_data['y'],forecast['yhat'])\n",
    "round(MAPE,2)\n"
   ]
  },
  {
   "cell_type": "code",
   "execution_count": 26,
   "id": "aea72f59",
   "metadata": {},
   "outputs": [
    {
     "data": {
      "text/plain": [
       "3200.06"
      ]
     },
     "execution_count": 26,
     "metadata": {},
     "output_type": "execute_result"
    }
   ],
   "source": [
    "#checking for RMSE\n",
    "\n",
    "def rmse(y, yhat):\n",
    "  y = y.reset_index(drop=True)\n",
    "  return round(np.sqrt(np.mean(np.square(y - yhat))),2)\n",
    "\n",
    "# evaluate rmse\n",
    "rmse(test_data['y'],forecast['yhat'])"
   ]
  },
  {
   "cell_type": "code",
   "execution_count": 27,
   "id": "e13e704a",
   "metadata": {},
   "outputs": [
    {
     "data": {
      "text/plain": [
       "[<matplotlib.lines.Line2D at 0x287db23e0e0>,\n",
       " <matplotlib.collections.PolyCollection at 0x287db1a1c30>]"
      ]
     },
     "execution_count": 27,
     "metadata": {},
     "output_type": "execute_result"
    },
    {
     "data": {
      "image/png": "[encoded data removed]",
      "text/plain": [
       "<Figure size 1000x600 with 1 Axes>"
      ]
     },
     "metadata": {},
     "output_type": "display_data"
    }
   ],
   "source": [
    "#plotting to see month of yearly seasonality with highest value\n",
    "plot_yearly(model)\n"
   ]
  },
  {
   "cell_type": "code",
   "execution_count": 28,
   "id": "961c20c7",
   "metadata": {},
   "outputs": [
    {
     "data": {
      "text/html": [
       "<div>\n",
       "<style scoped>\n",
       "    .dataframe tbody tr th:only-of-type {\n",
       "        vertical-align: middle;\n",
       "    }\n",
       "\n",
       "    .dataframe tbody tr th {\n",
       "        vertical-align: top;\n",
       "    }\n",
       "\n",
       "    .dataframe thead th {\n",
       "        text-align: right;\n",
       "    }\n",
       "</style>\n",
       "<table border=\"1\" class=\"dataframe\">\n",
       "  <thead>\n",
       "    <tr style=\"text-align: right;\">\n",
       "      <th></th>\n",
       "      <th>FullDate</th>\n",
       "      <th>Tmax</th>\n",
       "      <th>SysLoad</th>\n",
       "      <th>GasPrice</th>\n",
       "      <th>ElecPrice</th>\n",
       "    </tr>\n",
       "  </thead>\n",
       "  <tbody>\n",
       "    <tr>\n",
       "      <th>0</th>\n",
       "      <td>2010-09-01 00:00:00</td>\n",
       "      <td>15.8</td>\n",
       "      <td>1688.215</td>\n",
       "      <td>3.69</td>\n",
       "      <td>23.710</td>\n",
       "    </tr>\n",
       "    <tr>\n",
       "      <th>1</th>\n",
       "      <td>2010-09-01 01:00:00</td>\n",
       "      <td>15.8</td>\n",
       "      <td>1669.195</td>\n",
       "      <td>3.69</td>\n",
       "      <td>22.635</td>\n",
       "    </tr>\n",
       "    <tr>\n",
       "      <th>2</th>\n",
       "      <td>2010-09-01 02:00:00</td>\n",
       "      <td>15.8</td>\n",
       "      <td>1491.980</td>\n",
       "      <td>3.69</td>\n",
       "      <td>22.565</td>\n",
       "    </tr>\n",
       "    <tr>\n",
       "      <th>3</th>\n",
       "      <td>2010-09-01 03:00:00</td>\n",
       "      <td>15.8</td>\n",
       "      <td>1330.760</td>\n",
       "      <td>3.69</td>\n",
       "      <td>18.910</td>\n",
       "    </tr>\n",
       "    <tr>\n",
       "      <th>4</th>\n",
       "      <td>2010-09-01 04:00:00</td>\n",
       "      <td>15.8</td>\n",
       "      <td>1247.940</td>\n",
       "      <td>3.69</td>\n",
       "      <td>18.030</td>\n",
       "    </tr>\n",
       "  </tbody>\n",
       "</table>\n",
       "</div>"
      ],
      "text/plain": [
       "             FullDate  Tmax   SysLoad  GasPrice  ElecPrice\n",
       "0 2010-09-01 00:00:00  15.8  1688.215      3.69     23.710\n",
       "1 2010-09-01 01:00:00  15.8  1669.195      3.69     22.635\n",
       "2 2010-09-01 02:00:00  15.8  1491.980      3.69     22.565\n",
       "3 2010-09-01 03:00:00  15.8  1330.760      3.69     18.910\n",
       "4 2010-09-01 04:00:00  15.8  1247.940      3.69     18.030"
      ]
     },
     "execution_count": 28,
     "metadata": {},
     "output_type": "execute_result"
    }
   ],
   "source": [
    "dataset.reset_index(inplace = True)\n",
    "dataset.head()"
   ]
  },
  {
   "cell_type": "code",
   "execution_count": 29,
   "id": "e337c1db",
   "metadata": {
    "scrolled": true
   },
   "outputs": [
    {
     "data": {
      "text/html": [
       "<div>\n",
       "<style scoped>\n",
       "    .dataframe tbody tr th:only-of-type {\n",
       "        vertical-align: middle;\n",
       "    }\n",
       "\n",
       "    .dataframe tbody tr th {\n",
       "        vertical-align: top;\n",
       "    }\n",
       "\n",
       "    .dataframe thead th {\n",
       "        text-align: right;\n",
       "    }\n",
       "</style>\n",
       "<table border=\"1\" class=\"dataframe\">\n",
       "  <thead>\n",
       "    <tr style=\"text-align: right;\">\n",
       "      <th></th>\n",
       "      <th>index</th>\n",
       "      <th>ds</th>\n",
       "      <th>add2</th>\n",
       "      <th>add1</th>\n",
       "      <th>add3</th>\n",
       "      <th>y</th>\n",
       "    </tr>\n",
       "  </thead>\n",
       "  <tbody>\n",
       "    <tr>\n",
       "      <th>0</th>\n",
       "      <td>0</td>\n",
       "      <td>2010-09-01 00:00:00</td>\n",
       "      <td>15.8</td>\n",
       "      <td>1688.215</td>\n",
       "      <td>3.69</td>\n",
       "      <td>23.710</td>\n",
       "    </tr>\n",
       "    <tr>\n",
       "      <th>1</th>\n",
       "      <td>1</td>\n",
       "      <td>2010-09-01 01:00:00</td>\n",
       "      <td>15.8</td>\n",
       "      <td>1669.195</td>\n",
       "      <td>3.69</td>\n",
       "      <td>22.635</td>\n",
       "    </tr>\n",
       "    <tr>\n",
       "      <th>2</th>\n",
       "      <td>2</td>\n",
       "      <td>2010-09-01 02:00:00</td>\n",
       "      <td>15.8</td>\n",
       "      <td>1491.980</td>\n",
       "      <td>3.69</td>\n",
       "      <td>22.565</td>\n",
       "    </tr>\n",
       "    <tr>\n",
       "      <th>3</th>\n",
       "      <td>3</td>\n",
       "      <td>2010-09-01 03:00:00</td>\n",
       "      <td>15.8</td>\n",
       "      <td>1330.760</td>\n",
       "      <td>3.69</td>\n",
       "      <td>18.910</td>\n",
       "    </tr>\n",
       "    <tr>\n",
       "      <th>4</th>\n",
       "      <td>4</td>\n",
       "      <td>2010-09-01 04:00:00</td>\n",
       "      <td>15.8</td>\n",
       "      <td>1247.940</td>\n",
       "      <td>3.69</td>\n",
       "      <td>18.030</td>\n",
       "    </tr>\n",
       "  </tbody>\n",
       "</table>\n",
       "</div>"
      ],
      "text/plain": [
       "   index                  ds  add2      add1  add3       y\n",
       "0      0 2010-09-01 00:00:00  15.8  1688.215  3.69  23.710\n",
       "1      1 2010-09-01 01:00:00  15.8  1669.195  3.69  22.635\n",
       "2      2 2010-09-01 02:00:00  15.8  1491.980  3.69  22.565\n",
       "3      3 2010-09-01 03:00:00  15.8  1330.760  3.69  18.910\n",
       "4      4 2010-09-01 04:00:00  15.8  1247.940  3.69  18.030"
      ]
     },
     "execution_count": 29,
     "metadata": {},
     "output_type": "execute_result"
    }
   ],
   "source": [
    "data = dataset.reset_index().rename(columns={\"FullDate\": \"ds\", \"ElecPrice\": \"y\", 'SysLoad': 'add1', 'Tmax': 'add2', 'GasPrice': 'add3'})\n",
    "\n",
    "data.head()"
   ]
  },
  {
   "cell_type": "code",
   "execution_count": 30,
   "id": "f5030e69",
   "metadata": {},
   "outputs": [],
   "source": [
    "data.reset_index(inplace= True)\n",
    "train_new = data.iloc[:2757,:]\n",
    "test_new = data.iloc[2757:,:]\n"
   ]
  },
  {
   "cell_type": "code",
   "execution_count": 31,
   "id": "ae94b8e4",
   "metadata": {},
   "outputs": [
    {
     "data": {
      "text/plain": [
       "<prophet.forecaster.Prophet at 0x287c7222c80>"
      ]
     },
     "execution_count": 31,
     "metadata": {},
     "output_type": "execute_result"
    }
   ],
   "source": [
    "model_2 = Prophet()\n",
    "model_2.add_regressor('add1')\n",
    "model_2.add_regressor('add2')\n",
    "model_2.add_regressor('add3')"
   ]
  },
  {
   "cell_type": "code",
   "execution_count": 32,
   "id": "f9370a3e",
   "metadata": {},
   "outputs": [
    {
     "name": "stderr",
     "output_type": "stream",
     "text": [
      "14:50:09 - cmdstanpy - INFO - Chain [1] start processing\n",
      "14:50:10 - cmdstanpy - INFO - Chain [1] done processing\n"
     ]
    }
   ],
   "source": [
    "#training new model\n",
    "model_21 = model_2.fit(train_new)"
   ]
  },
  {
   "cell_type": "code",
   "execution_count": 33,
   "id": "e1ae0060",
   "metadata": {},
   "outputs": [],
   "source": [
    "new_forecast = model_21.predict(test_new)"
   ]
  },
  {
   "cell_type": "code",
   "execution_count": 34,
   "id": "06cc49f2",
   "metadata": {},
   "outputs": [
    {
     "data": {
      "text/plain": [
       "inf"
      ]
     },
     "execution_count": 34,
     "metadata": {},
     "output_type": "execute_result"
    }
   ],
   "source": [
    "#evaluating MAPE of new model\n",
    "MAPE_2 = mape(test_new['y'],new_forecast['yhat'])\n",
    "round(MAPE_2,2)\n",
    "\n"
   ]
  },
  {
   "cell_type": "code",
   "execution_count": 35,
   "id": "672922d2",
   "metadata": {},
   "outputs": [
    {
     "data": {
      "text/plain": [
       "1331.71"
      ]
     },
     "execution_count": 35,
     "metadata": {},
     "output_type": "execute_result"
    }
   ],
   "source": [
    "#calculating new RMSE\n",
    "RMSE_3 = np.sqrt(metrics.mean_squared_error(test_new['y'],new_forecast['yhat']))\n",
    "round(RMSE_3,2)"
   ]
  },
  {
   "cell_type": "code",
   "execution_count": 36,
   "id": "a9c898e1",
   "metadata": {},
   "outputs": [
    {
     "data": {
      "image/png": "[encoded data removed]",
      "text/plain": [
       "<Figure size 900x600 with 2 Axes>"
      ]
     },
     "execution_count": 36,
     "metadata": {},
     "output_type": "execute_result"
    },
    {
     "data": {
      "image/png": "[encoded data removed]",
      "text/plain": [
       "<Figure size 900x600 with 2 Axes>"
      ]
     },
     "metadata": {},
     "output_type": "display_data"
    }
   ],
   "source": [
    "#plotting to see daily seasonality with the highest value\n",
    "model.plot_components(new_forecast)"
   ]
  },
  {
   "cell_type": "code",
   "execution_count": 37,
   "id": "fac25401",
   "metadata": {},
   "outputs": [
    {
     "data": {
      "text/html": [
       "<div>\n",
       "<style scoped>\n",
       "    .dataframe tbody tr th:only-of-type {\n",
       "        vertical-align: middle;\n",
       "    }\n",
       "\n",
       "    .dataframe tbody tr th {\n",
       "        vertical-align: top;\n",
       "    }\n",
       "\n",
       "    .dataframe thead th {\n",
       "        text-align: right;\n",
       "    }\n",
       "</style>\n",
       "<table border=\"1\" class=\"dataframe\">\n",
       "  <thead>\n",
       "    <tr style=\"text-align: right;\">\n",
       "      <th></th>\n",
       "      <th>ds</th>\n",
       "      <th>add1</th>\n",
       "      <th>add2</th>\n",
       "      <th>y</th>\n",
       "    </tr>\n",
       "  </thead>\n",
       "  <tbody>\n",
       "    <tr>\n",
       "      <th>0</th>\n",
       "      <td>2010-09-01 00:00:00</td>\n",
       "      <td>1688.215</td>\n",
       "      <td>3.69</td>\n",
       "      <td>23.710</td>\n",
       "    </tr>\n",
       "    <tr>\n",
       "      <th>1</th>\n",
       "      <td>2010-09-01 01:00:00</td>\n",
       "      <td>1669.195</td>\n",
       "      <td>3.69</td>\n",
       "      <td>22.635</td>\n",
       "    </tr>\n",
       "    <tr>\n",
       "      <th>2</th>\n",
       "      <td>2010-09-01 02:00:00</td>\n",
       "      <td>1491.980</td>\n",
       "      <td>3.69</td>\n",
       "      <td>22.565</td>\n",
       "    </tr>\n",
       "    <tr>\n",
       "      <th>3</th>\n",
       "      <td>2010-09-01 03:00:00</td>\n",
       "      <td>1330.760</td>\n",
       "      <td>3.69</td>\n",
       "      <td>18.910</td>\n",
       "    </tr>\n",
       "    <tr>\n",
       "      <th>4</th>\n",
       "      <td>2010-09-01 04:00:00</td>\n",
       "      <td>1247.940</td>\n",
       "      <td>3.69</td>\n",
       "      <td>18.030</td>\n",
       "    </tr>\n",
       "  </tbody>\n",
       "</table>\n",
       "</div>"
      ],
      "text/plain": [
       "                   ds      add1  add2       y\n",
       "0 2010-09-01 00:00:00  1688.215  3.69  23.710\n",
       "1 2010-09-01 01:00:00  1669.195  3.69  22.635\n",
       "2 2010-09-01 02:00:00  1491.980  3.69  22.565\n",
       "3 2010-09-01 03:00:00  1330.760  3.69  18.910\n",
       "4 2010-09-01 04:00:00  1247.940  3.69  18.030"
      ]
     },
     "execution_count": 37,
     "metadata": {},
     "output_type": "execute_result"
    }
   ],
   "source": [
    "#initialising a new dataset to train a multivariate time series excluding T-max\n",
    "new_data = dataset.rename(columns = {'FullDate':'ds','ElecPrice':'y','SysLoad':'add1','GasPrice':'add2'})\n",
    "new_data.drop('Tmax', axis=1,inplace=True)\n",
    "\n",
    "new_data.head()"
   ]
  },
  {
   "cell_type": "code",
   "execution_count": 38,
   "id": "3c3e702e",
   "metadata": {},
   "outputs": [],
   "source": [
    "#splitting the data\n",
    "train1 = new_data[:2757]\n",
    "test1 = new_data[2757:]"
   ]
  },
  {
   "cell_type": "code",
   "execution_count": 39,
   "id": "9fdd7093",
   "metadata": {},
   "outputs": [
    {
     "data": {
      "text/plain": [
       "<prophet.forecaster.Prophet at 0x287e21162c0>"
      ]
     },
     "execution_count": 39,
     "metadata": {},
     "output_type": "execute_result"
    }
   ],
   "source": [
    "#training the model\n",
    "model1 = Prophet()\n",
    "model1.add_regressor('add1')\n",
    "model1.add_regressor('add2')"
   ]
  },
  {
   "cell_type": "code",
   "execution_count": 40,
   "id": "6f88c706",
   "metadata": {},
   "outputs": [
    {
     "name": "stderr",
     "output_type": "stream",
     "text": [
      "14:50:34 - cmdstanpy - INFO - Chain [1] start processing\n",
      "14:50:35 - cmdstanpy - INFO - Chain [1] done processing\n"
     ]
    }
   ],
   "source": [
    "model1.fit(train1) \n",
    "forecast1 = model1.predict(test1)"
   ]
  },
  {
   "cell_type": "code",
   "execution_count": 41,
   "id": "8f4577ff",
   "metadata": {},
   "outputs": [
    {
     "name": "stderr",
     "output_type": "stream",
     "text": [
      "C:\\Users\\godso\\AppData\\Local\\Temp\\ipykernel_7684\\3617687093.py:3: RuntimeWarning: divide by zero encountered in divide\n",
      "  return np.mean(np.abs((y_true - y_pred)/y_true)) *100\n"
     ]
    },
    {
     "data": {
      "text/plain": [
       "inf"
      ]
     },
     "execution_count": 41,
     "metadata": {},
     "output_type": "execute_result"
    }
   ],
   "source": [
    "#getting the MAPE for the new model \n",
    "MAPE_4 = Metric(test1['y'],forecast1['yhat'])\n",
    "round(MAPE_4,2)"
   ]
  },
  {
   "cell_type": "code",
   "execution_count": null,
   "id": "95029e5e",
   "metadata": {},
   "outputs": [],
   "source": []
  }
 ],
 "metadata": {
  "kernelspec": {
   "display_name": "Python 3 (ipykernel)",
   "language": "python",
   "name": "python3"
  },
  "language_info": {
   "codemirror_mode": {
    "name": "ipython",
    "version": 3
   },
   "file_extension": ".py",
   "mimetype": "text/x-python",
   "name": "python",
   "nbconvert_exporter": "python",
   "pygments_lexer": "ipython3",
   "version": "3.10.7"
  }
 },
 "nbformat": 4,
 "nbformat_minor": 5
}
